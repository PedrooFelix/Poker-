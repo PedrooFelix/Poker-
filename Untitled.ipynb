{
 "cells": [
  {
   "cell_type": "code",
   "execution_count": 15,
   "metadata": {},
   "outputs": [],
   "source": [
    "import random \n",
    "\"\"\"\n",
    "Poker\n",
    "\"\"\"\n",
    "\n",
    "# Init - setting up the basic values of each card, value, \n",
    "#suit, name, showing: que tem a intenção de mostrar para o usuário quando solicitado a sua carta\n",
    "class Card( object ):\n",
    "    def __init__(self, name,value, suit):\n",
    "        self.value = value\n",
    "        self.suit = suit\n",
    "        self.name = name\n",
    "        self.showing = False \n",
    "        \n",
    "    #def é utilizado para representar o objeto. Serve para mostrar customizar o que retorna - para saber o status de uma ação.\n",
    "    \n",
    "    def __repr__(self):\n",
    "        if self.showing:#se a funcao showing for chamada a pessoa vera as cartas na sua mao\n",
    "            return str(self.name) + \" of \" + self.suit #retorna os valores da sua carta.\n",
    "        else: \"Card\" #quando a pessoa recebe a carta ela ja recebe a mensagem automática que recebeu uma carta aleatória, representa a 'back of a card'\n",
    "\n",
    "class Deck(object):\n",
    "    # it randomizes the order of items in a list, we call it a randomizes the elements of a list in place\n",
    "    def shuffle(self, times = 1):\n",
    "        random.shuffle(self.cards)\n",
    "        print(\"Deck Shuffle\")\n",
    "        \n",
    "    def deal(self):\n",
    "        return self.pop(-1)\n",
    "    #The pop() method removes the item at the given index from the list and returns the removed item.\n",
    "    #pop utilizei para pegar a última carta do deck\n",
    "    \n",
    "    #standard deck está criando o deck de cartas\n",
    "    \n",
    "class StandardDeck(Deck):\n",
    "    def __init__(self):\n",
    "        self.cards = []\n",
    "        suits = [\"Hearts\",\"Spades\", \"Diamonds\", \"Clubs\"]\n",
    "        values = {\"Two\":2,\"Three\":3,\"Four\":4,\"Five\":5,\"Six\":6,\"Seven\":7,\"Eight\":8,\"Nine\":9,\"Ten\":10,\"Jack\":11,\"Queen\":12,\"King\":13,\"Aces\":14}#14 = As 13=King 12=Queen 11=Jacks\n",
    "    \n",
    "        for name in values:\n",
    "            for suit in suits:\n",
    "                self.cards.append( Card(name,values[name],suit))\n",
    "\n",
    "    def __repr__(self):\n",
    "        return \"Standard Deck of cards {0} cards remaining\".format(len(self.cards))#mostra o tanto de cartas que estão faltando no deck\n",
    "\n",
    "    \n"
   ]
  },
  {
   "cell_type": "code",
   "execution_count": 9,
   "metadata": {},
   "outputs": [],
   "source": [
    "deck = StandardDeck()"
   ]
  },
  {
   "cell_type": "code",
   "execution_count": 12,
   "metadata": {},
   "outputs": [
    {
     "data": {
      "text/plain": [
       "Standard Deck of cards 52 cards remaining"
      ]
     },
     "execution_count": 12,
     "metadata": {},
     "output_type": "execute_result"
    }
   ],
   "source": [
    "deck"
   ]
  },
  {
   "cell_type": "code",
   "execution_count": 14,
   "metadata": {},
   "outputs": [
    {
     "name": "stdout",
     "output_type": "stream",
     "text": [
      "Deck Shuffle\n"
     ]
    }
   ],
   "source": [
    "deck.shuffle()"
   ]
  }
 ],
 "metadata": {
  "kernelspec": {
   "display_name": "Python 3",
   "language": "python",
   "name": "python3"
  },
  "language_info": {
   "codemirror_mode": {
    "name": "ipython",
    "version": 3
   },
   "file_extension": ".py",
   "mimetype": "text/x-python",
   "name": "python",
   "nbconvert_exporter": "python",
   "pygments_lexer": "ipython3",
   "version": "3.9.1"
  }
 },
 "nbformat": 4,
 "nbformat_minor": 4
}
